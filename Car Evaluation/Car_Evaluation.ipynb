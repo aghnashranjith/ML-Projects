{
  "cells": [
    {
      "cell_type": "markdown",
      "metadata": {
        "id": "view-in-github",
        "colab_type": "text"
      },
      "source": [
        "<a href=\"https://colab.research.google.com/github/aghnashranjith/ML-Projects/blob/main/Car%20Evaluation/Car_Evaluation.ipynb\" target=\"_parent\"><img src=\"https://colab.research.google.com/assets/colab-badge.svg\" alt=\"Open In Colab\"/></a>"
      ]
    },
    {
      "cell_type": "markdown",
      "metadata": {
        "id": "OgdZn6dMVIhu"
      },
      "source": [
        "Importing Dependancies"
      ]
    },
    {
      "cell_type": "code",
      "execution_count": null,
      "metadata": {
        "id": "-dveFHHxIN8O"
      },
      "outputs": [],
      "source": [
        "import pandas as pd\n",
        "import numpy as np\n",
        "from sklearn.neighbors import KNeighborsClassifier\n",
        "from sklearn.utils import shuffle\n",
        "from sklearn import linear_model, preprocessing"
      ]
    },
    {
      "cell_type": "code",
      "execution_count": null,
      "metadata": {
        "colab": {
          "base_uri": "https://localhost:8080/"
        },
        "id": "ncfRi9_mVpVd",
        "outputId": "227874b7-d76b-4a12-8f33-1cef12b739be"
      },
      "outputs": [
        {
          "name": "stdout",
          "output_type": "stream",
          "text": [
            "<bound method NDFrame.head of      buying  maint   door persons lug_boot safety  class\n",
            "0     vhigh  vhigh      2       2    small    low  unacc\n",
            "1     vhigh  vhigh      2       2    small    med  unacc\n",
            "2     vhigh  vhigh      2       2    small   high  unacc\n",
            "3     vhigh  vhigh      2       2      med    low  unacc\n",
            "4     vhigh  vhigh      2       2      med    med  unacc\n",
            "...     ...    ...    ...     ...      ...    ...    ...\n",
            "1723    low    low  5more    more      med    med   good\n",
            "1724    low    low  5more    more      med   high  vgood\n",
            "1725    low    low  5more    more      big    low  unacc\n",
            "1726    low    low  5more    more      big    med   good\n",
            "1727    low    low  5more    more      big   high  vgood\n",
            "\n",
            "[1728 rows x 7 columns]>\n"
          ]
        }
      ],
      "source": [
        "data = pd.read_csv('/content/sample_data/car.data')\n",
        "print(data.head)"
      ]
    },
    {
      "cell_type": "code",
      "execution_count": 36,
      "metadata": {
        "colab": {
          "base_uri": "https://localhost:8080/"
        },
        "id": "vHQqsn4mV1dc",
        "outputId": "311fe00d-74f1-4009-c7d1-d0b9b6a8c85f"
      },
      "outputs": [
        {
          "output_type": "stream",
          "name": "stdout",
          "text": [
            "[3 3 3 ... 1 1 1]\n"
          ]
        }
      ],
      "source": [
        "# Converting Non-numerical values to numerical values using LabelEncoder\n",
        "\n",
        "le = preprocessing.LabelEncoder()\n",
        "\n",
        "buying = le.fit_transform(list(data[\"buying\"]))\n",
        "maint = le.fit_transform(list(data[\"maint\"]))\n",
        "door = le.fit_transform(list(data[\"door\"]))\n",
        "persons = le.fit_transform(list(data[\"persons\"]))\n",
        "lug_boot = le.fit_transform(list(data[\"lug_boot\"]))\n",
        "safety = le.fit_transform(list(data[\"safety\"]))\n",
        "cls = le.fit_transform(list(data[\"class\"]))\n",
        "print(buying)"
      ]
    },
    {
      "cell_type": "code",
      "execution_count": 37,
      "metadata": {
        "id": "1-aAh_uvWf1I"
      },
      "outputs": [],
      "source": [
        "predict = \"class\"\n",
        "\n",
        "# using zip to make the proper dataframe\n",
        "x = list(zip(buying,maint,door,persons,lug_boot,safety))\n",
        "y = list(cls)\n",
        "\n",
        "from sklearn.model_selection import train_test_split\n",
        "\n",
        "x_train, x_test, y_train, y_test = train_test_split(x, y, test_size = 0.1)"
      ]
    },
    {
      "cell_type": "code",
      "execution_count": null,
      "metadata": {
        "colab": {
          "base_uri": "https://localhost:8080/",
          "height": 74
        },
        "id": "yjXxbMd9oWqE",
        "outputId": "7f4a210b-8d75-4fe4-9007-d2c879db5be3"
      },
      "outputs": [
        {
          "data": {
            "text/html": [
              "<style>#sk-container-id-4 {color: black;background-color: white;}#sk-container-id-4 pre{padding: 0;}#sk-container-id-4 div.sk-toggleable {background-color: white;}#sk-container-id-4 label.sk-toggleable__label {cursor: pointer;display: block;width: 100%;margin-bottom: 0;padding: 0.3em;box-sizing: border-box;text-align: center;}#sk-container-id-4 label.sk-toggleable__label-arrow:before {content: \"▸\";float: left;margin-right: 0.25em;color: #696969;}#sk-container-id-4 label.sk-toggleable__label-arrow:hover:before {color: black;}#sk-container-id-4 div.sk-estimator:hover label.sk-toggleable__label-arrow:before {color: black;}#sk-container-id-4 div.sk-toggleable__content {max-height: 0;max-width: 0;overflow: hidden;text-align: left;background-color: #f0f8ff;}#sk-container-id-4 div.sk-toggleable__content pre {margin: 0.2em;color: black;border-radius: 0.25em;background-color: #f0f8ff;}#sk-container-id-4 input.sk-toggleable__control:checked~div.sk-toggleable__content {max-height: 200px;max-width: 100%;overflow: auto;}#sk-container-id-4 input.sk-toggleable__control:checked~label.sk-toggleable__label-arrow:before {content: \"▾\";}#sk-container-id-4 div.sk-estimator input.sk-toggleable__control:checked~label.sk-toggleable__label {background-color: #d4ebff;}#sk-container-id-4 div.sk-label input.sk-toggleable__control:checked~label.sk-toggleable__label {background-color: #d4ebff;}#sk-container-id-4 input.sk-hidden--visually {border: 0;clip: rect(1px 1px 1px 1px);clip: rect(1px, 1px, 1px, 1px);height: 1px;margin: -1px;overflow: hidden;padding: 0;position: absolute;width: 1px;}#sk-container-id-4 div.sk-estimator {font-family: monospace;background-color: #f0f8ff;border: 1px dotted black;border-radius: 0.25em;box-sizing: border-box;margin-bottom: 0.5em;}#sk-container-id-4 div.sk-estimator:hover {background-color: #d4ebff;}#sk-container-id-4 div.sk-parallel-item::after {content: \"\";width: 100%;border-bottom: 1px solid gray;flex-grow: 1;}#sk-container-id-4 div.sk-label:hover label.sk-toggleable__label {background-color: #d4ebff;}#sk-container-id-4 div.sk-serial::before {content: \"\";position: absolute;border-left: 1px solid gray;box-sizing: border-box;top: 0;bottom: 0;left: 50%;z-index: 0;}#sk-container-id-4 div.sk-serial {display: flex;flex-direction: column;align-items: center;background-color: white;padding-right: 0.2em;padding-left: 0.2em;position: relative;}#sk-container-id-4 div.sk-item {position: relative;z-index: 1;}#sk-container-id-4 div.sk-parallel {display: flex;align-items: stretch;justify-content: center;background-color: white;position: relative;}#sk-container-id-4 div.sk-item::before, #sk-container-id-4 div.sk-parallel-item::before {content: \"\";position: absolute;border-left: 1px solid gray;box-sizing: border-box;top: 0;bottom: 0;left: 50%;z-index: -1;}#sk-container-id-4 div.sk-parallel-item {display: flex;flex-direction: column;z-index: 1;position: relative;background-color: white;}#sk-container-id-4 div.sk-parallel-item:first-child::after {align-self: flex-end;width: 50%;}#sk-container-id-4 div.sk-parallel-item:last-child::after {align-self: flex-start;width: 50%;}#sk-container-id-4 div.sk-parallel-item:only-child::after {width: 0;}#sk-container-id-4 div.sk-dashed-wrapped {border: 1px dashed gray;margin: 0 0.4em 0.5em 0.4em;box-sizing: border-box;padding-bottom: 0.4em;background-color: white;}#sk-container-id-4 div.sk-label label {font-family: monospace;font-weight: bold;display: inline-block;line-height: 1.2em;}#sk-container-id-4 div.sk-label-container {text-align: center;}#sk-container-id-4 div.sk-container {/* jupyter's `normalize.less` sets `[hidden] { display: none; }` but bootstrap.min.css set `[hidden] { display: none !important; }` so we also need the `!important` here to be able to override the default hidden behavior on the sphinx rendered scikit-learn.org. See: https://github.com/scikit-learn/scikit-learn/issues/21755 */display: inline-block !important;position: relative;}#sk-container-id-4 div.sk-text-repr-fallback {display: none;}</style><div id=\"sk-container-id-4\" class=\"sk-top-container\"><div class=\"sk-text-repr-fallback\"><pre>KNeighborsClassifier(n_neighbors=9)</pre><b>In a Jupyter environment, please rerun this cell to show the HTML representation or trust the notebook. <br />On GitHub, the HTML representation is unable to render, please try loading this page with nbviewer.org.</b></div><div class=\"sk-container\" hidden><div class=\"sk-item\"><div class=\"sk-estimator sk-toggleable\"><input class=\"sk-toggleable__control sk-hidden--visually\" id=\"sk-estimator-id-4\" type=\"checkbox\" checked><label for=\"sk-estimator-id-4\" class=\"sk-toggleable__label sk-toggleable__label-arrow\">KNeighborsClassifier</label><div class=\"sk-toggleable__content\"><pre>KNeighborsClassifier(n_neighbors=9)</pre></div></div></div></div></div>"
            ],
            "text/plain": [
              "KNeighborsClassifier(n_neighbors=9)"
            ]
          },
          "execution_count": 25,
          "metadata": {},
          "output_type": "execute_result"
        }
      ],
      "source": [
        "model = KNeighborsClassifier(n_neighbors = 9)\n",
        "\n",
        "model.fit(x_train, y_train)"
      ]
    },
    {
      "cell_type": "code",
      "execution_count": 38,
      "metadata": {
        "colab": {
          "base_uri": "https://localhost:8080/"
        },
        "id": "QJtFeqo0ygcF",
        "outputId": "1c93e0a7-97a9-4b9c-8155-b65ff268f94b"
      },
      "outputs": [
        {
          "output_type": "stream",
          "name": "stdout",
          "text": [
            "Training data accuracy :  0.9659163987138264\n"
          ]
        }
      ],
      "source": [
        "acc = model.score(x_train, y_train)\n",
        "print('Training data accuracy : ', acc)"
      ]
    },
    {
      "cell_type": "code",
      "execution_count": 39,
      "metadata": {
        "colab": {
          "base_uri": "https://localhost:8080/"
        },
        "id": "di87NrB6ys9c",
        "outputId": "db3a9030-46cd-49be-d897-71323625b36d"
      },
      "outputs": [
        {
          "output_type": "stream",
          "name": "stdout",
          "text": [
            "Testing data accuracy :  0.9942196531791907\n"
          ]
        }
      ],
      "source": [
        "acc = model.score(x_test, y_test)\n",
        "\n",
        "print('Testing data accuracy : ', acc)"
      ]
    },
    {
      "cell_type": "code",
      "execution_count": 40,
      "metadata": {
        "id": "3Nk9OR3vzE8S"
      },
      "outputs": [],
      "source": [
        "names = [\"unacc\",\"acc\",\"good\",\"vgood\"]"
      ]
    },
    {
      "cell_type": "code",
      "execution_count": 41,
      "metadata": {
        "colab": {
          "base_uri": "https://localhost:8080/"
        },
        "id": "vWqsGcMS0Jq4",
        "outputId": "bcc914fb-48ae-40fc-f809-7589e9dd4fe8"
      },
      "outputs": [
        {
          "output_type": "stream",
          "name": "stdout",
          "text": [
            "Data:  (1, 3, 0, 1, 2, 2) Predicted:  good Actual:  good\n",
            "Data:  (0, 1, 3, 1, 1, 1) Predicted:  good Actual:  good\n",
            "Data:  (3, 3, 0, 0, 2, 1) Predicted:  good Actual:  good\n",
            "Data:  (2, 1, 2, 0, 1, 1) Predicted:  good Actual:  good\n",
            "Data:  (3, 1, 0, 1, 0, 2) Predicted:  unacc Actual:  unacc\n",
            "Data:  (3, 3, 0, 1, 2, 0) Predicted:  good Actual:  good\n",
            "Data:  (3, 0, 3, 2, 1, 1) Predicted:  good Actual:  good\n",
            "Data:  (0, 2, 2, 2, 0, 0) Predicted:  unacc Actual:  unacc\n",
            "Data:  (2, 0, 1, 0, 0, 0) Predicted:  good Actual:  good\n",
            "Data:  (2, 0, 1, 0, 1, 0) Predicted:  good Actual:  good\n",
            "Data:  (2, 1, 3, 1, 0, 0) Predicted:  vgood Actual:  vgood\n",
            "Data:  (0, 0, 2, 1, 1, 0) Predicted:  unacc Actual:  unacc\n",
            "Data:  (3, 3, 0, 1, 2, 2) Predicted:  good Actual:  good\n",
            "Data:  (3, 1, 1, 1, 2, 0) Predicted:  unacc Actual:  unacc\n",
            "Data:  (3, 3, 1, 1, 2, 2) Predicted:  good Actual:  good\n",
            "Data:  (0, 2, 3, 1, 0, 0) Predicted:  unacc Actual:  unacc\n",
            "Data:  (0, 2, 0, 1, 0, 1) Predicted:  good Actual:  good\n",
            "Data:  (1, 3, 1, 1, 2, 0) Predicted:  unacc Actual:  unacc\n",
            "Data:  (0, 3, 3, 1, 1, 2) Predicted:  good Actual:  good\n",
            "Data:  (2, 1, 1, 1, 2, 1) Predicted:  good Actual:  good\n",
            "Data:  (0, 3, 1, 1, 1, 0) Predicted:  good Actual:  good\n",
            "Data:  (1, 2, 1, 0, 1, 0) Predicted:  good Actual:  good\n",
            "Data:  (0, 2, 1, 0, 1, 1) Predicted:  good Actual:  good\n",
            "Data:  (2, 3, 3, 0, 1, 1) Predicted:  good Actual:  good\n",
            "Data:  (1, 0, 3, 0, 0, 2) Predicted:  good Actual:  good\n",
            "Data:  (0, 1, 2, 1, 0, 2) Predicted:  unacc Actual:  unacc\n",
            "Data:  (1, 3, 3, 2, 0, 0) Predicted:  unacc Actual:  unacc\n",
            "Data:  (3, 1, 3, 2, 1, 1) Predicted:  good Actual:  good\n",
            "Data:  (1, 3, 3, 2, 2, 1) Predicted:  good Actual:  good\n",
            "Data:  (0, 3, 2, 1, 1, 0) Predicted:  good Actual:  good\n",
            "Data:  (2, 2, 1, 0, 1, 1) Predicted:  good Actual:  good\n",
            "Data:  (3, 3, 1, 1, 1, 0) Predicted:  good Actual:  good\n",
            "Data:  (0, 1, 0, 2, 0, 0) Predicted:  unacc Actual:  unacc\n",
            "Data:  (0, 0, 1, 2, 2, 2) Predicted:  good Actual:  good\n",
            "Data:  (3, 0, 1, 2, 2, 0) Predicted:  good Actual:  good\n",
            "Data:  (2, 0, 0, 1, 1, 0) Predicted:  unacc Actual:  unacc\n",
            "Data:  (2, 3, 1, 0, 0, 0) Predicted:  good Actual:  good\n",
            "Data:  (2, 0, 2, 1, 2, 0) Predicted:  unacc Actual:  unacc\n",
            "Data:  (3, 0, 3, 0, 1, 1) Predicted:  good Actual:  good\n",
            "Data:  (1, 2, 0, 0, 1, 0) Predicted:  good Actual:  good\n",
            "Data:  (0, 1, 3, 2, 2, 2) Predicted:  good Actual:  good\n",
            "Data:  (2, 3, 2, 2, 2, 1) Predicted:  good Actual:  good\n",
            "Data:  (1, 1, 3, 0, 2, 0) Predicted:  good Actual:  good\n",
            "Data:  (2, 1, 2, 2, 0, 0) Predicted:  vgood Actual:  vgood\n",
            "Data:  (1, 1, 3, 2, 1, 1) Predicted:  good Actual:  good\n",
            "Data:  (1, 2, 3, 1, 2, 1) Predicted:  good Actual:  good\n",
            "Data:  (3, 0, 2, 0, 2, 2) Predicted:  good Actual:  good\n",
            "Data:  (0, 2, 1, 0, 1, 2) Predicted:  good Actual:  good\n",
            "Data:  (1, 0, 3, 1, 2, 0) Predicted:  unacc Actual:  unacc\n",
            "Data:  (2, 1, 0, 2, 0, 2) Predicted:  acc Actual:  acc\n",
            "Data:  (0, 3, 1, 2, 1, 1) Predicted:  good Actual:  good\n",
            "Data:  (1, 3, 1, 2, 2, 1) Predicted:  good Actual:  good\n",
            "Data:  (0, 3, 2, 0, 2, 2) Predicted:  good Actual:  good\n",
            "Data:  (0, 2, 1, 0, 2, 2) Predicted:  good Actual:  good\n",
            "Data:  (1, 0, 0, 1, 1, 0) Predicted:  unacc Actual:  unacc\n",
            "Data:  (3, 0, 1, 0, 2, 0) Predicted:  good Actual:  good\n",
            "Data:  (0, 3, 1, 0, 2, 0) Predicted:  good Actual:  good\n",
            "Data:  (1, 1, 2, 2, 0, 2) Predicted:  acc Actual:  acc\n",
            "Data:  (1, 1, 1, 0, 1, 1) Predicted:  good Actual:  good\n",
            "Data:  (1, 1, 0, 1, 1, 1) Predicted:  good Actual:  good\n",
            "Data:  (3, 1, 2, 2, 2, 2) Predicted:  good Actual:  good\n",
            "Data:  (1, 3, 0, 2, 0, 2) Predicted:  unacc Actual:  unacc\n",
            "Data:  (0, 0, 2, 1, 2, 2) Predicted:  good Actual:  good\n",
            "Data:  (2, 2, 3, 1, 0, 1) Predicted:  good Actual:  good\n",
            "Data:  (3, 1, 1, 1, 0, 1) Predicted:  good Actual:  good\n",
            "Data:  (2, 1, 3, 2, 2, 1) Predicted:  good Actual:  good\n",
            "Data:  (3, 3, 3, 1, 0, 2) Predicted:  good Actual:  good\n",
            "Data:  (3, 2, 2, 2, 1, 1) Predicted:  good Actual:  good\n",
            "Data:  (0, 1, 2, 0, 2, 1) Predicted:  good Actual:  good\n",
            "Data:  (3, 1, 3, 1, 1, 1) Predicted:  good Actual:  good\n",
            "Data:  (1, 3, 0, 2, 1, 1) Predicted:  good Actual:  good\n",
            "Data:  (2, 2, 2, 2, 0, 1) Predicted:  good Actual:  good\n",
            "Data:  (0, 0, 3, 2, 1, 1) Predicted:  good Actual:  good\n",
            "Data:  (2, 1, 1, 1, 0, 0) Predicted:  vgood Actual:  vgood\n",
            "Data:  (3, 2, 0, 2, 0, 2) Predicted:  unacc Actual:  unacc\n",
            "Data:  (0, 0, 2, 2, 2, 0) Predicted:  unacc Actual:  unacc\n",
            "Data:  (1, 1, 0, 0, 2, 0) Predicted:  good Actual:  good\n",
            "Data:  (1, 3, 2, 2, 2, 0) Predicted:  unacc Actual:  unacc\n",
            "Data:  (0, 2, 2, 0, 2, 0) Predicted:  good Actual:  good\n",
            "Data:  (0, 0, 3, 0, 1, 0) Predicted:  good Actual:  good\n",
            "Data:  (2, 2, 1, 0, 2, 0) Predicted:  good Actual:  good\n",
            "Data:  (0, 2, 1, 1, 2, 1) Predicted:  good Actual:  good\n",
            "Data:  (0, 2, 2, 2, 2, 0) Predicted:  unacc Actual:  unacc\n",
            "Data:  (2, 3, 2, 2, 0, 0) Predicted:  unacc Actual:  unacc\n",
            "Data:  (0, 3, 1, 1, 1, 2) Predicted:  good Actual:  good\n",
            "Data:  (3, 3, 3, 0, 2, 0) Predicted:  good Actual:  good\n",
            "Data:  (0, 2, 0, 2, 1, 0) Predicted:  unacc Actual:  unacc\n",
            "Data:  (2, 1, 2, 1, 1, 0) Predicted:  vgood Actual:  vgood\n",
            "Data:  (1, 3, 2, 2, 2, 2) Predicted:  good Actual:  good\n",
            "Data:  (3, 2, 2, 0, 0, 2) Predicted:  good Actual:  good\n",
            "Data:  (3, 1, 2, 0, 0, 2) Predicted:  good Actual:  good\n",
            "Data:  (2, 0, 2, 1, 2, 1) Predicted:  good Actual:  good\n",
            "Data:  (0, 2, 3, 0, 1, 1) Predicted:  good Actual:  good\n",
            "Data:  (1, 3, 0, 0, 0, 0) Predicted:  good Actual:  good\n",
            "Data:  (3, 1, 2, 0, 2, 0) Predicted:  good Actual:  good\n",
            "Data:  (3, 0, 3, 0, 0, 0) Predicted:  good Actual:  good\n",
            "Data:  (0, 2, 3, 0, 2, 0) Predicted:  good Actual:  good\n",
            "Data:  (1, 2, 2, 2, 2, 0) Predicted:  acc Actual:  acc\n",
            "Data:  (3, 0, 0, 0, 2, 1) Predicted:  good Actual:  good\n",
            "Data:  (2, 2, 2, 2, 1, 0) Predicted:  vgood Actual:  vgood\n",
            "Data:  (0, 0, 1, 2, 2, 1) Predicted:  good Actual:  good\n",
            "Data:  (3, 2, 0, 1, 1, 2) Predicted:  good Actual:  good\n",
            "Data:  (0, 0, 2, 2, 2, 1) Predicted:  good Actual:  good\n",
            "Data:  (2, 0, 2, 1, 1, 0) Predicted:  unacc Actual:  unacc\n",
            "Data:  (3, 1, 2, 0, 1, 2) Predicted:  good Actual:  good\n",
            "Data:  (3, 1, 1, 0, 2, 2) Predicted:  good Actual:  good\n",
            "Data:  (0, 1, 0, 0, 0, 2) Predicted:  good Actual:  good\n",
            "Data:  (0, 2, 1, 2, 0, 2) Predicted:  unacc Actual:  unacc\n",
            "Data:  (3, 2, 0, 0, 0, 0) Predicted:  good Actual:  good\n",
            "Data:  (2, 1, 2, 1, 1, 2) Predicted:  acc Actual:  acc\n",
            "Data:  (0, 2, 1, 1, 1, 0) Predicted:  unacc Actual:  unacc\n",
            "Data:  (0, 3, 3, 1, 0, 0) Predicted:  good Actual:  good\n",
            "Data:  (1, 1, 0, 1, 0, 2) Predicted:  acc Actual:  acc\n",
            "Data:  (3, 3, 1, 0, 1, 1) Predicted:  good Actual:  good\n",
            "Data:  (2, 2, 3, 2, 1, 0) Predicted:  vgood Actual:  vgood\n",
            "Data:  (3, 3, 3, 0, 2, 2) Predicted:  good Actual:  good\n",
            "Data:  (2, 2, 2, 0, 2, 2) Predicted:  good Actual:  good\n",
            "Data:  (2, 2, 1, 1, 2, 2) Predicted:  unacc Actual:  unacc\n",
            "Data:  (2, 0, 3, 1, 2, 2) Predicted:  good Actual:  good\n",
            "Data:  (2, 0, 1, 0, 0, 2) Predicted:  good Actual:  good\n",
            "Data:  (3, 0, 1, 1, 2, 2) Predicted:  good Actual:  good\n",
            "Data:  (2, 3, 3, 1, 2, 2) Predicted:  good Actual:  good\n",
            "Data:  (2, 1, 3, 0, 2, 0) Predicted:  good Actual:  good\n",
            "Data:  (0, 2, 0, 2, 1, 1) Predicted:  good Actual:  good\n",
            "Data:  (1, 0, 3, 2, 0, 2) Predicted:  unacc Actual:  unacc\n",
            "Data:  (1, 1, 0, 1, 0, 1) Predicted:  good Actual:  good\n",
            "Data:  (3, 3, 1, 2, 0, 0) Predicted:  good Actual:  good\n",
            "Data:  (0, 1, 2, 0, 2, 0) Predicted:  good Actual:  good\n",
            "Data:  (0, 1, 0, 0, 1, 0) Predicted:  good Actual:  good\n",
            "Data:  (1, 1, 0, 2, 0, 2) Predicted:  acc Actual:  acc\n",
            "Data:  (3, 0, 0, 1, 2, 1) Predicted:  good Actual:  good\n",
            "Data:  (3, 1, 3, 2, 1, 2) Predicted:  unacc Actual:  unacc\n",
            "Data:  (3, 2, 3, 2, 2, 0) Predicted:  unacc Actual:  unacc\n",
            "Data:  (1, 3, 1, 0, 2, 2) Predicted:  good Actual:  good\n",
            "Data:  (0, 2, 3, 0, 1, 0) Predicted:  good Actual:  good\n",
            "Data:  (0, 3, 3, 1, 0, 1) Predicted:  good Actual:  good\n",
            "Data:  (2, 2, 0, 2, 0, 0) Predicted:  vgood Actual:  vgood\n",
            "Data:  (0, 1, 2, 0, 2, 2) Predicted:  good Actual:  good\n",
            "Data:  (0, 1, 1, 2, 2, 1) Predicted:  good Actual:  good\n",
            "Data:  (0, 2, 1, 0, 0, 1) Predicted:  good Actual:  good\n",
            "Data:  (3, 2, 0, 1, 2, 0) Predicted:  unacc Actual:  unacc\n",
            "Data:  (1, 1, 1, 0, 0, 0) Predicted:  good Actual:  good\n",
            "Data:  (3, 1, 1, 2, 0, 0) Predicted:  unacc Actual:  unacc\n",
            "Data:  (0, 3, 2, 2, 0, 1) Predicted:  good Actual:  good\n",
            "Data:  (0, 3, 2, 2, 1, 0) Predicted:  good Actual:  good\n",
            "Data:  (1, 1, 2, 2, 2, 1) Predicted:  good Actual:  good\n",
            "Data:  (3, 2, 2, 2, 2, 1) Predicted:  good Actual:  good\n",
            "Data:  (0, 0, 0, 2, 0, 1) Predicted:  good Actual:  good\n",
            "Data:  (2, 1, 2, 1, 2, 1) Predicted:  good Actual:  good\n",
            "Data:  (2, 1, 0, 2, 2, 1) Predicted:  good Actual:  good\n",
            "Data:  (0, 1, 3, 2, 0, 2) Predicted:  unacc Actual:  unacc\n",
            "Data:  (0, 3, 0, 1, 0, 2) Predicted:  good Actual:  good\n",
            "Data:  (1, 1, 2, 0, 1, 1) Predicted:  good Actual:  good\n",
            "Data:  (0, 1, 0, 2, 0, 1) Predicted:  good Actual:  good\n",
            "Data:  (1, 1, 0, 0, 0, 1) Predicted:  good Actual:  good\n",
            "Data:  (3, 1, 3, 1, 0, 0) Predicted:  unacc Actual:  unacc\n",
            "Data:  (3, 3, 1, 2, 0, 1) Predicted:  good Actual:  good\n",
            "Data:  (2, 0, 2, 2, 0, 0) Predicted:  unacc Actual:  unacc\n",
            "Data:  (2, 2, 2, 1, 1, 1) Predicted:  good Actual:  good\n",
            "Data:  (0, 1, 1, 2, 1, 1) Predicted:  good Actual:  good\n",
            "Data:  (0, 0, 0, 1, 1, 2) Predicted:  good Actual:  good\n",
            "Data:  (1, 2, 2, 1, 1, 2) Predicted:  unacc Actual:  acc\n",
            "Data:  (2, 1, 2, 2, 2, 1) Predicted:  good Actual:  good\n",
            "Data:  (2, 2, 3, 0, 2, 1) Predicted:  good Actual:  good\n",
            "Data:  (3, 2, 2, 1, 1, 0) Predicted:  unacc Actual:  unacc\n",
            "Data:  (3, 1, 3, 0, 2, 1) Predicted:  good Actual:  good\n",
            "Data:  (2, 1, 1, 1, 2, 2) Predicted:  unacc Actual:  unacc\n",
            "Data:  (1, 1, 1, 0, 1, 0) Predicted:  good Actual:  good\n",
            "Data:  (1, 3, 1, 0, 1, 1) Predicted:  good Actual:  good\n",
            "Data:  (1, 1, 3, 2, 0, 2) Predicted:  acc Actual:  acc\n",
            "Data:  (0, 0, 1, 2, 0, 1) Predicted:  good Actual:  good\n",
            "Data:  (1, 3, 3, 2, 1, 0) Predicted:  unacc Actual:  unacc\n",
            "Data:  (0, 1, 3, 2, 1, 0) Predicted:  unacc Actual:  unacc\n"
          ]
        }
      ],
      "source": [
        "predicted = model.predict(x_test)\n",
        "\n",
        "for i in range(len(predicted)):\n",
        "  print(\"Data: \", x_test[i], \"Predicted: \", names[predicted[i]], \"Actual: \", names[y_test[i]])\n"
      ]
    }
  ],
  "metadata": {
    "colab": {
      "provenance": [],
      "authorship_tag": "ABX9TyPHup1doa2pULE7HimuwrTJ",
      "include_colab_link": true
    },
    "kernelspec": {
      "display_name": "Python 3",
      "name": "python3"
    },
    "language_info": {
      "name": "python"
    }
  },
  "nbformat": 4,
  "nbformat_minor": 0
}